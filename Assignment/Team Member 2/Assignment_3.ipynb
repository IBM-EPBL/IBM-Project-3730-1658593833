{
  "nbformat": 4,
  "nbformat_minor": 0,
  "metadata": {
    "colab": {
      "provenance": [],
      "collapsed_sections": []
    },
    "kernelspec": {
      "name": "python3",
      "display_name": "Python 3"
    },
    "language_info": {
      "name": "python"
    }
  },
  "cells": [
    {
      "cell_type": "markdown",
      "source": [
        "**2. Image Augmentation**"
      ],
      "metadata": {
        "id": "uiw-53rhXQ3U"
      }
    },
    {
      "cell_type": "code",
      "source": [
        "from tensorflow.keras.preprocessing.image import ImageDataGenerator"
      ],
      "metadata": {
        "id": "ofMQhNjwIA2z"
      },
      "execution_count": 41,
      "outputs": []
    },
    {
      "cell_type": "code",
      "source": [
        "train_datagen = ImageDataGenerator(rescale = 1./255, horizontal_flip=True, vertical_flip=True,zoom_range=0.2)"
      ],
      "metadata": {
        "id": "jtEFctrOIi1T"
      },
      "execution_count": 5,
      "outputs": []
    },
    {
      "cell_type": "code",
      "source": [
        "test_datagen = ImageDataGenerator(rescale = 1./255)"
      ],
      "metadata": {
        "id": "kNO58xLOIi4O"
      },
      "execution_count": 6,
      "outputs": []
    },
    {
      "cell_type": "code",
      "source": [
        "x_train = train_datagen.flow_from_directory(r\"/content/drive/MyDrive/Dataset/flowers\",target_size = (64,64),\n",
        "                                                                                      class_mode = \"categorical\",batch_size = 24)"
      ],
      "metadata": {
        "colab": {
          "base_uri": "https://localhost:8080/"
        },
        "id": "sSKEXCWoIi67",
        "outputId": "5a4f0d22-f898-4bf3-fcf0-5963ffe872c7"
      },
      "execution_count": 7,
      "outputs": [
        {
          "output_type": "stream",
          "name": "stdout",
          "text": [
            "Found 4317 images belonging to 5 classes.\n"
          ]
        }
      ]
    },
    {
      "cell_type": "code",
      "source": [
        "x_test = test_datagen.flow_from_directory(r\"/content/drive/MyDrive/Dataset/flowers\",target_size = (64,64),\n",
        "                                                                                      class_mode = \"categorical\",batch_size = 24)"
      ],
      "metadata": {
        "colab": {
          "base_uri": "https://localhost:8080/"
        },
        "id": "59JcLCqnIi-F",
        "outputId": "7172ef65-ec98-41d7-ef1f-7575e0505435"
      },
      "execution_count": 8,
      "outputs": [
        {
          "output_type": "stream",
          "name": "stdout",
          "text": [
            "Found 4317 images belonging to 5 classes.\n"
          ]
        }
      ]
    },
    {
      "cell_type": "markdown",
      "source": [
        "**3. Create Model**"
      ],
      "metadata": {
        "id": "tBmXVELcOm1D"
      }
    },
    {
      "cell_type": "code",
      "source": [
        "from tensorflow.keras.models import Sequential\n",
        "from tensorflow.keras.layers import Convolution2D,MaxPooling2D,Flatten,Dense"
      ],
      "metadata": {
        "id": "4JcDeX82Odut"
      },
      "execution_count": 9,
      "outputs": []
    },
    {
      "cell_type": "code",
      "source": [
        "model = Sequential()"
      ],
      "metadata": {
        "id": "vpFsNJgXO4Y_"
      },
      "execution_count": 10,
      "outputs": []
    },
    {
      "cell_type": "markdown",
      "source": [
        "**4. Add Layers (Convolution,MaxPooling,Flatten,Dense-(Hidden\n",
        "Layers),Output)**"
      ],
      "metadata": {
        "id": "xpY9h8T6PqbR"
      }
    },
    {
      "cell_type": "code",
      "source": [
        "model.add(Convolution2D(32,(3,3),activation = \"relu\",input_shape = (64,64,3)))"
      ],
      "metadata": {
        "id": "9D8uFQpGPhPK"
      },
      "execution_count": 11,
      "outputs": []
    },
    {
      "cell_type": "code",
      "source": [
        "model.add(MaxPooling2D(pool_size = (2,2)))"
      ],
      "metadata": {
        "id": "6ijuJYaMPll3"
      },
      "execution_count": 12,
      "outputs": []
    },
    {
      "cell_type": "code",
      "source": [
        "model.add(Flatten())"
      ],
      "metadata": {
        "id": "tptjZheZPxk6"
      },
      "execution_count": 13,
      "outputs": []
    },
    {
      "cell_type": "code",
      "source": [
        "model.add(Dense(300, activation='relu'))"
      ],
      "metadata": {
        "id": "8IQkYhtPP1ha"
      },
      "execution_count": 14,
      "outputs": []
    },
    {
      "cell_type": "code",
      "source": [
        "model.add(Dense(300, activation='relu'))"
      ],
      "metadata": {
        "id": "OxOqOATMP9KV"
      },
      "execution_count": 15,
      "outputs": []
    },
    {
      "cell_type": "code",
      "source": [
        "model.add(Dense(5, activation=\"softmax\"))"
      ],
      "metadata": {
        "id": "OwG8CzxyQAP4"
      },
      "execution_count": 16,
      "outputs": []
    },
    {
      "cell_type": "markdown",
      "source": [
        "**5. Compile The Model**"
      ],
      "metadata": {
        "id": "nHhih1mlQIDo"
      }
    },
    {
      "cell_type": "code",
      "source": [
        "model.compile(loss=\"categorical_crossentropy\", metrics=[\"accuracy\"], optimizer='adam')"
      ],
      "metadata": {
        "id": "Aec92r-DQMN1"
      },
      "execution_count": 17,
      "outputs": []
    },
    {
      "cell_type": "markdown",
      "source": [
        "**6. Fit The Model**"
      ],
      "metadata": {
        "id": "J-lb2Nf2QcIv"
      }
    },
    {
      "cell_type": "code",
      "source": [
        "len(x_train)"
      ],
      "metadata": {
        "colab": {
          "base_uri": "https://localhost:8080/"
        },
        "id": "1Uw8WoL0QQyR",
        "outputId": "1c3c0884-1fe4-492f-9086-f06dedb67fd3"
      },
      "execution_count": 18,
      "outputs": [
        {
          "output_type": "execute_result",
          "data": {
            "text/plain": [
              "180"
            ]
          },
          "metadata": {},
          "execution_count": 18
        }
      ]
    },
    {
      "cell_type": "code",
      "source": [
        "model.fit(x_train, epochs = 5, validation_data=x_test, steps_per_epoch=len(x_train), validation_steps=len(x_test))"
      ],
      "metadata": {
        "colab": {
          "base_uri": "https://localhost:8080/"
        },
        "id": "6MKtK4YHQWPN",
        "outputId": "5ceb0647-9ad5-4abb-cb58-2d1f8cfe13bb"
      },
      "execution_count": 19,
      "outputs": [
        {
          "output_type": "stream",
          "name": "stdout",
          "text": [
            "Epoch 1/5\n",
            "180/180 [==============================] - 68s 376ms/step - loss: 1.3861 - accuracy: 0.4376 - val_loss: 1.1033 - val_accuracy: 0.5541\n",
            "Epoch 2/5\n",
            "180/180 [==============================] - 67s 374ms/step - loss: 1.0869 - accuracy: 0.5645 - val_loss: 1.1731 - val_accuracy: 0.5471\n",
            "Epoch 3/5\n",
            "180/180 [==============================] - 69s 381ms/step - loss: 1.0150 - accuracy: 0.5976 - val_loss: 0.9863 - val_accuracy: 0.6013\n",
            "Epoch 4/5\n",
            "180/180 [==============================] - 69s 381ms/step - loss: 0.9401 - accuracy: 0.6273 - val_loss: 0.9974 - val_accuracy: 0.6252\n",
            "Epoch 5/5\n",
            "180/180 [==============================] - 69s 382ms/step - loss: 0.8978 - accuracy: 0.6486 - val_loss: 0.8824 - val_accuracy: 0.6599\n"
          ]
        },
        {
          "output_type": "execute_result",
          "data": {
            "text/plain": [
              "<keras.callbacks.History at 0x7f4173dbcf10>"
            ]
          },
          "metadata": {},
          "execution_count": 19
        }
      ]
    },
    {
      "cell_type": "markdown",
      "source": [
        "**7. Save The Model**"
      ],
      "metadata": {
        "id": "xF12InI6SHZa"
      }
    },
    {
      "cell_type": "code",
      "source": [
        "model.save(\"flowers.h5\")"
      ],
      "metadata": {
        "id": "Iupw_THKR-rB"
      },
      "execution_count": 20,
      "outputs": []
    },
    {
      "cell_type": "markdown",
      "source": [
        "**8. Test The Model**"
      ],
      "metadata": {
        "id": "MwdXFCPmSTYJ"
      }
    },
    {
      "cell_type": "code",
      "source": [
        "from tensorflow.keras.models import load_model\n",
        "from tensorflow.keras.preprocessing import image\n",
        "import numpy as np"
      ],
      "metadata": {
        "id": "auuBLl_mSYdI"
      },
      "execution_count": 21,
      "outputs": []
    },
    {
      "cell_type": "code",
      "source": [
        "model = load_model(\"/content/drive/MyDrive/Dataset/flowers.h5\")"
      ],
      "metadata": {
        "id": "dFXVNO7TStXq"
      },
      "execution_count": 22,
      "outputs": []
    },
    {
      "cell_type": "code",
      "source": [
        "img = image.load_img(\"/content/drive/MyDrive/Dataset/flowers/rose/1813435848_7852708394_n.jpg\",target_size=(64,64))"
      ],
      "metadata": {
        "id": "H3Ci33ybS2-u"
      },
      "execution_count": 25,
      "outputs": []
    },
    {
      "cell_type": "code",
      "source": [
        "img"
      ],
      "metadata": {
        "colab": {
          "base_uri": "https://localhost:8080/",
          "height": 81
        },
        "id": "FynPiOLYTM2O",
        "outputId": "94960837-b577-47cd-8b52-235c23f11093"
      },
      "execution_count": 26,
      "outputs": [
        {
          "output_type": "execute_result",
          "data": {
            "text/plain": [
              "<PIL.Image.Image image mode=RGB size=64x64 at 0x7F4173362DD0>"
            ],
            "image/png": "[encoded data removed]"
          },
          "metadata": {},
          "execution_count": 26
        }
      ]
    },
    {
      "cell_type": "code",
      "source": [
        "x = image.img_to_array(img)"
      ],
      "metadata": {
        "id": "UQYfrk2yTiMk"
      },
      "execution_count": 27,
      "outputs": []
    },
    {
      "cell_type": "code",
      "source": [
        "x"
      ],
      "metadata": {
        "colab": {
          "base_uri": "https://localhost:8080/"
        },
        "id": "_DKYng8UUDkE",
        "outputId": "2acf4c62-402c-4482-a433-4f0d1ad80556"
      },
      "execution_count": 28,
      "outputs": [
        {
          "output_type": "execute_result",
          "data": {
            "text/plain": [
              "array([[[ 35.,  52.,  34.],\n",
              "        [ 29.,  42.,  25.],\n",
              "        [ 33.,  47.,  24.],\n",
              "        ...,\n",
              "        [ 31.,  45.,  22.],\n",
              "        [ 22.,  41.,  21.],\n",
              "        [ 39.,  48.,  29.]],\n",
              "\n",
              "       [[ 31.,  31.,  19.],\n",
              "        [100.,  17.,  27.],\n",
              "        [100.,  16.,  14.],\n",
              "        ...,\n",
              "        [102.,  18.,  16.],\n",
              "        [105.,  18.,  27.],\n",
              "        [ 27.,  35.,  22.]],\n",
              "\n",
              "       [[ 32.,  40.,  27.],\n",
              "        [  7.,  33.,   8.],\n",
              "        [ 11.,  18.,   2.],\n",
              "        ...,\n",
              "        [ 10.,  17.,   1.],\n",
              "        [ 10.,  31.,  14.],\n",
              "        [ 30.,  41.,  24.]],\n",
              "\n",
              "       ...,\n",
              "\n",
              "       [[ 23.,  39.,  26.],\n",
              "        [  6.,  37.,   6.],\n",
              "        [ 16.,  31.,   8.],\n",
              "        ...,\n",
              "        [  8.,  35.,   4.],\n",
              "        [ 11.,  29.,   3.],\n",
              "        [ 26.,  40.,  23.]],\n",
              "\n",
              "       [[ 31.,  45.,  30.],\n",
              "        [ 81.,   1.,  10.],\n",
              "        [ 65.,   1.,   0.],\n",
              "        ...,\n",
              "        [ 64.,   0.,   0.],\n",
              "        [ 77.,   0.,   2.],\n",
              "        [ 25.,  48.,  30.]],\n",
              "\n",
              "       [[ 35.,  50.,  29.],\n",
              "        [ 28.,  52.,  30.],\n",
              "        [ 31.,  46.,  27.],\n",
              "        ...,\n",
              "        [ 33.,  44.,  27.],\n",
              "        [ 29.,  51.,  30.],\n",
              "        [ 37.,  50.,  30.]]], dtype=float32)"
            ]
          },
          "metadata": {},
          "execution_count": 28
        }
      ]
    },
    {
      "cell_type": "code",
      "source": [
        "model.predict(x)"
      ],
      "metadata": {
        "colab": {
          "base_uri": "https://localhost:8080/",
          "height": 588
        },
        "id": "Ch1SQdMTUGmq",
        "outputId": "111c683a-73cf-4b8c-fb68-f503e8ead5bc"
      },
      "execution_count": 31,
      "outputs": [
        {
          "output_type": "error",
          "ename": "ValueError",
          "evalue": "ignored",
          "traceback": [
            "\u001b[0;31m---------------------------------------------------------------------------\u001b[0m",
            "\u001b[0;31mValueError\u001b[0m                                Traceback (most recent call last)",
            "\u001b[0;32m<ipython-input-31-2648d9cfd8aa>\u001b[0m in \u001b[0;36m<module>\u001b[0;34m\u001b[0m\n\u001b[0;32m----> 1\u001b[0;31m \u001b[0mmodel\u001b[0m\u001b[0;34m.\u001b[0m\u001b[0mpredict\u001b[0m\u001b[0;34m(\u001b[0m\u001b[0mx\u001b[0m\u001b[0;34m)\u001b[0m\u001b[0;34m\u001b[0m\u001b[0;34m\u001b[0m\u001b[0m\n\u001b[0m",
            "\u001b[0;32m/usr/local/lib/python3.7/dist-packages/keras/utils/traceback_utils.py\u001b[0m in \u001b[0;36merror_handler\u001b[0;34m(*args, **kwargs)\u001b[0m\n\u001b[1;32m     65\u001b[0m     \u001b[0;32mexcept\u001b[0m \u001b[0mException\u001b[0m \u001b[0;32mas\u001b[0m \u001b[0me\u001b[0m\u001b[0;34m:\u001b[0m  \u001b[0;31m# pylint: disable=broad-except\u001b[0m\u001b[0;34m\u001b[0m\u001b[0;34m\u001b[0m\u001b[0m\n\u001b[1;32m     66\u001b[0m       \u001b[0mfiltered_tb\u001b[0m \u001b[0;34m=\u001b[0m \u001b[0m_process_traceback_frames\u001b[0m\u001b[0;34m(\u001b[0m\u001b[0me\u001b[0m\u001b[0;34m.\u001b[0m\u001b[0m__traceback__\u001b[0m\u001b[0;34m)\u001b[0m\u001b[0;34m\u001b[0m\u001b[0;34m\u001b[0m\u001b[0m\n\u001b[0;32m---> 67\u001b[0;31m       \u001b[0;32mraise\u001b[0m \u001b[0me\u001b[0m\u001b[0;34m.\u001b[0m\u001b[0mwith_traceback\u001b[0m\u001b[0;34m(\u001b[0m\u001b[0mfiltered_tb\u001b[0m\u001b[0;34m)\u001b[0m \u001b[0;32mfrom\u001b[0m \u001b[0;32mNone\u001b[0m\u001b[0;34m\u001b[0m\u001b[0;34m\u001b[0m\u001b[0m\n\u001b[0m\u001b[1;32m     68\u001b[0m     \u001b[0;32mfinally\u001b[0m\u001b[0;34m:\u001b[0m\u001b[0;34m\u001b[0m\u001b[0;34m\u001b[0m\u001b[0m\n\u001b[1;32m     69\u001b[0m       \u001b[0;32mdel\u001b[0m \u001b[0mfiltered_tb\u001b[0m\u001b[0;34m\u001b[0m\u001b[0;34m\u001b[0m\u001b[0m\n",
            "\u001b[0;32m/usr/local/lib/python3.7/dist-packages/tensorflow/python/framework/func_graph.py\u001b[0m in \u001b[0;36mautograph_handler\u001b[0;34m(*args, **kwargs)\u001b[0m\n\u001b[1;32m   1145\u001b[0m           \u001b[0;32mexcept\u001b[0m \u001b[0mException\u001b[0m \u001b[0;32mas\u001b[0m \u001b[0me\u001b[0m\u001b[0;34m:\u001b[0m  \u001b[0;31m# pylint:disable=broad-except\u001b[0m\u001b[0;34m\u001b[0m\u001b[0;34m\u001b[0m\u001b[0m\n\u001b[1;32m   1146\u001b[0m             \u001b[0;32mif\u001b[0m \u001b[0mhasattr\u001b[0m\u001b[0;34m(\u001b[0m\u001b[0me\u001b[0m\u001b[0;34m,\u001b[0m \u001b[0;34m\"ag_error_metadata\"\u001b[0m\u001b[0;34m)\u001b[0m\u001b[0;34m:\u001b[0m\u001b[0;34m\u001b[0m\u001b[0;34m\u001b[0m\u001b[0m\n\u001b[0;32m-> 1147\u001b[0;31m               \u001b[0;32mraise\u001b[0m \u001b[0me\u001b[0m\u001b[0;34m.\u001b[0m\u001b[0mag_error_metadata\u001b[0m\u001b[0;34m.\u001b[0m\u001b[0mto_exception\u001b[0m\u001b[0;34m(\u001b[0m\u001b[0me\u001b[0m\u001b[0;34m)\u001b[0m\u001b[0;34m\u001b[0m\u001b[0;34m\u001b[0m\u001b[0m\n\u001b[0m\u001b[1;32m   1148\u001b[0m             \u001b[0;32melse\u001b[0m\u001b[0;34m:\u001b[0m\u001b[0;34m\u001b[0m\u001b[0;34m\u001b[0m\u001b[0m\n\u001b[1;32m   1149\u001b[0m               \u001b[0;32mraise\u001b[0m\u001b[0;34m\u001b[0m\u001b[0;34m\u001b[0m\u001b[0m\n",
            "\u001b[0;31mValueError\u001b[0m: in user code:\n\n    File \"/usr/local/lib/python3.7/dist-packages/keras/engine/training.py\", line 1801, in predict_function  *\n        return step_function(self, iterator)\n    File \"/usr/local/lib/python3.7/dist-packages/keras/engine/training.py\", line 1790, in step_function  **\n        outputs = model.distribute_strategy.run(run_step, args=(data,))\n    File \"/usr/local/lib/python3.7/dist-packages/keras/engine/training.py\", line 1783, in run_step  **\n        outputs = model.predict_step(data)\n    File \"/usr/local/lib/python3.7/dist-packages/keras/engine/training.py\", line 1751, in predict_step\n        return self(x, training=False)\n    File \"/usr/local/lib/python3.7/dist-packages/keras/utils/traceback_utils.py\", line 67, in error_handler\n        raise e.with_traceback(filtered_tb) from None\n    File \"/usr/local/lib/python3.7/dist-packages/keras/engine/input_spec.py\", line 264, in assert_input_compatibility\n        raise ValueError(f'Input {input_index} of layer \"{layer_name}\" is '\n\n    ValueError: Input 0 of layer \"sequential\" is incompatible with the layer: expected shape=(None, 64, 64, 3), found shape=(32, 64, 3)\n"
          ]
        }
      ]
    },
    {
      "cell_type": "code",
      "source": [
        "x.ndim"
      ],
      "metadata": {
        "colab": {
          "base_uri": "https://localhost:8080/"
        },
        "id": "mKxi1IKsUYAU",
        "outputId": "a3016f1d-c5d7-44eb-a7e4-7a57b851b43d"
      },
      "execution_count": 32,
      "outputs": [
        {
          "output_type": "execute_result",
          "data": {
            "text/plain": [
              "3"
            ]
          },
          "metadata": {},
          "execution_count": 32
        }
      ]
    },
    {
      "cell_type": "code",
      "source": [
        "x = np.expand_dims(x,axis=0)"
      ],
      "metadata": {
        "id": "qkUGehDuUath"
      },
      "execution_count": 35,
      "outputs": []
    },
    {
      "cell_type": "code",
      "source": [
        "x.ndim"
      ],
      "metadata": {
        "colab": {
          "base_uri": "https://localhost:8080/"
        },
        "id": "2Pgcv2UwUa3J",
        "outputId": "ec51b78f-05ad-4d0c-f029-b21dce849f17"
      },
      "execution_count": 36,
      "outputs": [
        {
          "output_type": "execute_result",
          "data": {
            "text/plain": [
              "4"
            ]
          },
          "metadata": {},
          "execution_count": 36
        }
      ]
    },
    {
      "cell_type": "code",
      "source": [
        "pred = model.predict(x)"
      ],
      "metadata": {
        "id": "FbH4WLwYVJ9k"
      },
      "execution_count": 37,
      "outputs": []
    },
    {
      "cell_type": "code",
      "source": [
        "pred"
      ],
      "metadata": {
        "colab": {
          "base_uri": "https://localhost:8080/"
        },
        "id": "tXouqrakVY5m",
        "outputId": "8958d7c1-d854-4394-c403-41d729b8ce70"
      },
      "execution_count": 38,
      "outputs": [
        {
          "output_type": "execute_result",
          "data": {
            "text/plain": [
              "array([[0., 0., 1., 0., 0.]], dtype=float32)"
            ]
          },
          "metadata": {},
          "execution_count": 38
        }
      ]
    },
    {
      "cell_type": "code",
      "source": [
        "labels = [\"daisy\",\"dandelion\",\"rose\",\"sunflower\",\"tulip\"]"
      ],
      "metadata": {
        "id": "-f2DhjAXVm0S"
      },
      "execution_count": 39,
      "outputs": []
    },
    {
      "cell_type": "code",
      "source": [
        "labels[np.argmax(pred)]"
      ],
      "metadata": {
        "colab": {
          "base_uri": "https://localhost:8080/",
          "height": 35
        },
        "id": "rU9I1C9IVzNN",
        "outputId": "9d167b5f-7d8f-45f6-95bc-abdf7cb41576"
      },
      "execution_count": 40,
      "outputs": [
        {
          "output_type": "execute_result",
          "data": {
            "text/plain": [
              "'rose'"
            ],
            "application/vnd.google.colaboratory.intrinsic+json": {
              "type": "string"
            }
          },
          "metadata": {},
          "execution_count": 40
        }
      ]
    }
  ]
}